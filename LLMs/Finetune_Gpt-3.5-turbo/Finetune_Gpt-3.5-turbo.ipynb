{
 "cells": [
  {
   "cell_type": "code",
   "execution_count": 1,
   "metadata": {
    "colab": {
     "base_uri": "https://localhost:8080/"
    },
    "executionInfo": {
     "elapsed": 9943,
     "status": "ok",
     "timestamp": 1722160325748,
     "user": {
      "displayName": "Abd Alkarim",
      "userId": "03458153634795249349"
     },
     "user_tz": -180
    },
    "id": "t-MPCPJAuyjg",
    "outputId": "4bc63619-28e7-4b29-abfd-d46b5942b6ce"
   },
   "outputs": [
    {
     "name": "stdout",
     "output_type": "stream",
     "text": [
      "Collecting openai\n",
      "  Downloading openai-1.37.1-py3-none-any.whl.metadata (22 kB)\n",
      "Requirement already satisfied: anyio<5,>=3.5.0 in /usr/local/lib/python3.10/dist-packages (from openai) (3.7.1)\n",
      "Requirement already satisfied: distro<2,>=1.7.0 in /usr/lib/python3/dist-packages (from openai) (1.7.0)\n",
      "Collecting httpx<1,>=0.23.0 (from openai)\n",
      "  Downloading httpx-0.27.0-py3-none-any.whl.metadata (7.2 kB)\n",
      "Requirement already satisfied: pydantic<3,>=1.9.0 in /usr/local/lib/python3.10/dist-packages (from openai) (2.8.2)\n",
      "Requirement already satisfied: sniffio in /usr/local/lib/python3.10/dist-packages (from openai) (1.3.1)\n",
      "Requirement already satisfied: tqdm>4 in /usr/local/lib/python3.10/dist-packages (from openai) (4.66.4)\n",
      "Requirement already satisfied: typing-extensions<5,>=4.7 in /usr/local/lib/python3.10/dist-packages (from openai) (4.12.2)\n",
      "Requirement already satisfied: idna>=2.8 in /usr/local/lib/python3.10/dist-packages (from anyio<5,>=3.5.0->openai) (3.7)\n",
      "Requirement already satisfied: exceptiongroup in /usr/local/lib/python3.10/dist-packages (from anyio<5,>=3.5.0->openai) (1.2.2)\n",
      "Requirement already satisfied: certifi in /usr/local/lib/python3.10/dist-packages (from httpx<1,>=0.23.0->openai) (2024.7.4)\n",
      "Collecting httpcore==1.* (from httpx<1,>=0.23.0->openai)\n",
      "  Downloading httpcore-1.0.5-py3-none-any.whl.metadata (20 kB)\n",
      "Collecting h11<0.15,>=0.13 (from httpcore==1.*->httpx<1,>=0.23.0->openai)\n",
      "  Downloading h11-0.14.0-py3-none-any.whl.metadata (8.2 kB)\n",
      "Requirement already satisfied: annotated-types>=0.4.0 in /usr/local/lib/python3.10/dist-packages (from pydantic<3,>=1.9.0->openai) (0.7.0)\n",
      "Requirement already satisfied: pydantic-core==2.20.1 in /usr/local/lib/python3.10/dist-packages (from pydantic<3,>=1.9.0->openai) (2.20.1)\n",
      "Downloading openai-1.37.1-py3-none-any.whl (337 kB)\n",
      "\u001b[2K   \u001b[90m━━━━━━━━━━━━━━━━━━━━━━━━━━━━━━━━━━━━━━━━\u001b[0m \u001b[32m337.0/337.0 kB\u001b[0m \u001b[31m7.1 MB/s\u001b[0m eta \u001b[36m0:00:00\u001b[0m\n",
      "\u001b[?25hDownloading httpx-0.27.0-py3-none-any.whl (75 kB)\n",
      "\u001b[2K   \u001b[90m━━━━━━━━━━━━━━━━━━━━━━━━━━━━━━━━━━━━━━━━\u001b[0m \u001b[32m75.6/75.6 kB\u001b[0m \u001b[31m3.6 MB/s\u001b[0m eta \u001b[36m0:00:00\u001b[0m\n",
      "\u001b[?25hDownloading httpcore-1.0.5-py3-none-any.whl (77 kB)\n",
      "\u001b[2K   \u001b[90m━━━━━━━━━━━━━━━━━━━━━━━━━━━━━━━━━━━━━━━━\u001b[0m \u001b[32m77.9/77.9 kB\u001b[0m \u001b[31m3.7 MB/s\u001b[0m eta \u001b[36m0:00:00\u001b[0m\n",
      "\u001b[?25hDownloading h11-0.14.0-py3-none-any.whl (58 kB)\n",
      "\u001b[2K   \u001b[90m━━━━━━━━━━━━━━━━━━━━━━━━━━━━━━━━━━━━━━━━\u001b[0m \u001b[32m58.3/58.3 kB\u001b[0m \u001b[31m1.9 MB/s\u001b[0m eta \u001b[36m0:00:00\u001b[0m\n",
      "\u001b[?25hInstalling collected packages: h11, httpcore, httpx, openai\n",
      "Successfully installed h11-0.14.0 httpcore-1.0.5 httpx-0.27.0 openai-1.37.1\n"
     ]
    }
   ],
   "source": [
    "pip install openai"
   ]
  },
  {
   "cell_type": "code",
   "execution_count": 2,
   "metadata": {
    "executionInfo": {
     "elapsed": 1056,
     "status": "ok",
     "timestamp": 1722160350292,
     "user": {
      "displayName": "Abd Alkarim",
      "userId": "03458153634795249349"
     },
     "user_tz": -180
    },
    "id": "pDSRwXMIu22q"
   },
   "outputs": [],
   "source": [
    "from openai import OpenAI\n",
    "\n",
    "client = OpenAI(\n",
    "    api_key = \"sk-proj-o15ahTYqSPi8F172r228T3BlbkFJciUyjaWf5FHyzdVRA4yF\",\n",
    ")"
   ]
  },
  {
   "cell_type": "code",
   "execution_count": 4,
   "metadata": {
    "colab": {
     "base_uri": "https://localhost:8080/"
    },
    "executionInfo": {
     "elapsed": 3609,
     "status": "ok",
     "timestamp": 1722160512781,
     "user": {
      "displayName": "Abd Alkarim",
      "userId": "03458153634795249349"
     },
     "user_tz": -180
    },
    "id": "XxqurCxUu27j",
    "outputId": "fcf09c65-f3e1-4cd0-c66b-c18fc0ea31fc"
   },
   "outputs": [
    {
     "name": "stdout",
     "output_type": "stream",
     "text": [
      "Drive already mounted at /content/drive; to attempt to forcibly remount, call drive.mount(\"/content/drive\", force_remount=True).\n"
     ]
    }
   ],
   "source": [
    "from google.colab import drive\n",
    "drive.mount('/content/drive')\n",
    "\n",
    "training_file_name = '/content/drive/My Drive/03. path/Finetune_Gpt-3.5-turbo/training_data.jsonl'\n",
    "validation_file_name = '/content/drive/My Drive/03. path/Finetune_Gpt-3.5-turbo/validation_data.jsonl'"
   ]
  },
  {
   "cell_type": "code",
   "execution_count": 6,
   "metadata": {
    "colab": {
     "base_uri": "https://localhost:8080/"
    },
    "executionInfo": {
     "elapsed": 2310,
     "status": "ok",
     "timestamp": 1722160910395,
     "user": {
      "displayName": "Abd Alkarim",
      "userId": "03458153634795249349"
     },
     "user_tz": -180
    },
    "id": "AMzaZD5hu2-Y",
    "outputId": "b3bd2afe-2c0b-44ed-dd83-fc0b54942229"
   },
   "outputs": [
    {
     "name": "stdout",
     "output_type": "stream",
     "text": [
      "Training File ID: FileObject(id='file-rLfsk3CrBmZ0uvwqe1cLu1QS', bytes=5598, created_at=1722160911, filename='training_data.jsonl', object='file', purpose='fine-tune', status='processed', status_details=None)\n",
      "Validation File ID: FileObject(id='file-aTiMJukivOKqeizliT0bN9S3', bytes=2792, created_at=1722160912, filename='validation_data.jsonl', object='file', purpose='fine-tune', status='processed', status_details=None)\n"
     ]
    }
   ],
   "source": [
    "training_file_id = client.files.create(\n",
    "  file = open(training_file_name, \"rb\"),\n",
    "  purpose = \"fine-tune\"\n",
    ")\n",
    "\n",
    "validation_file_id = client.files.create(\n",
    "  file = open(validation_file_name, \"rb\"),\n",
    "  purpose = \"fine-tune\"\n",
    ")\n",
    "\n",
    "print(f\"Training File ID: {training_file_id}\")\n",
    "print(f\"Validation File ID: {validation_file_id}\")"
   ]
  },
  {
   "cell_type": "code",
   "execution_count": 7,
   "metadata": {
    "colab": {
     "base_uri": "https://localhost:8080/"
    },
    "executionInfo": {
     "elapsed": 2856,
     "status": "ok",
     "timestamp": 1722161360839,
     "user": {
      "displayName": "Abd Alkarim",
      "userId": "03458153634795249349"
     },
     "user_tz": -180
    },
    "id": "Kd_IIcszu3BG",
    "outputId": "a1b26ea3-59e4-463e-dc67-2b650c4a122a"
   },
   "outputs": [
    {
     "name": "stdout",
     "output_type": "stream",
     "text": [
      "Fine-tunning model with jobID: ftjob-TQ8TYveVMVxO2rvHc4ddAHos.\n",
      "Training Response: FineTuningJob(id='ftjob-TQ8TYveVMVxO2rvHc4ddAHos', created_at=1722161363, error=Error(code=None, message=None, param=None), fine_tuned_model=None, finished_at=None, hyperparameters=Hyperparameters(n_epochs=15, batch_size=3, learning_rate_multiplier=0.3), model='gpt-3.5-turbo-0125', object='fine_tuning.job', organization_id='org-5c13hZRgHBn8Les2z6Q4Zx9w', result_files=[], seed=157131863, status='validating_files', trained_tokens=None, training_file='file-rLfsk3CrBmZ0uvwqe1cLu1QS', validation_file='file-aTiMJukivOKqeizliT0bN9S3', estimated_finish=None, integrations=[], user_provided_suffix=None)\n",
      "Training Status: validating_files\n"
     ]
    }
   ],
   "source": [
    "response = client.fine_tuning.jobs.create(\n",
    "  training_file=training_file_id.id,\n",
    "  validation_file=validation_file_id.id,\n",
    "  model=\"gpt-3.5-turbo\",\n",
    "  hyperparameters={\n",
    "    \"n_epochs\": 15,\n",
    "\t  \"batch_size\": 3,\n",
    "\t  \"learning_rate_multiplier\": 0.3\n",
    "  }\n",
    ")\n",
    "job_id = response.id\n",
    "status = response.status\n",
    "\n",
    "print(f'Fine-tunning model with jobID: {job_id}.')\n",
    "print(f\"Training Response: {response}\")\n",
    "print(f\"Training Status: {status}\")"
   ]
  },
  {
   "cell_type": "code",
   "execution_count": 8,
   "metadata": {
    "colab": {
     "base_uri": "https://localhost:8080/"
    },
    "executionInfo": {
     "elapsed": 571,
     "status": "ok",
     "timestamp": 1722161748474,
     "user": {
      "displayName": "Abd Alkarim",
      "userId": "03458153634795249349"
     },
     "user_tz": -180
    },
    "id": "sRBwqenXu3Db",
    "outputId": "9ec15621-1e93-40d1-a3a2-19d4432024b6"
   },
   "outputs": [
    {
     "name": "stdout",
     "output_type": "stream",
     "text": [
      "Streaming events for the fine-tuning job: ftjob-TQ8TYveVMVxO2rvHc4ddAHos\n",
      "2024-07-28 10:15:48 Step 51/55: training loss=0.68, validation loss=0.22, full validation loss=0.28\n",
      "2024-07-28 10:15:43 Step 50/55: training loss=0.63, validation loss=0.33\n",
      "2024-07-28 10:15:40 Step 49/55: training loss=0.50, validation loss=0.25\n",
      "2024-07-28 10:15:35 Step 48/55: training loss=0.57, validation loss=0.33, full validation loss=0.28\n",
      "2024-07-28 10:15:31 Step 47/55: training loss=0.65, validation loss=0.32\n",
      "2024-07-28 10:15:28 Step 46/55: training loss=0.65, validation loss=0.24\n",
      "2024-07-28 10:15:23 Step 45/55: training loss=0.52, validation loss=0.32, full validation loss=0.28\n",
      "2024-07-28 10:15:19 Step 44/55: training loss=0.61, validation loss=0.22\n",
      "2024-07-28 10:15:14 Step 43/55: training loss=0.51, validation loss=0.33\n",
      "2024-07-28 10:15:12 Step 42/55: training loss=0.68, validation loss=0.25, full validation loss=0.28\n",
      "2024-07-28 10:15:07 Step 41/55: training loss=0.49, validation loss=0.33\n",
      "2024-07-28 10:15:02 Step 40/55: training loss=0.52, validation loss=0.32\n",
      "2024-07-28 10:14:59 Step 39/55: training loss=0.73, validation loss=0.24, full validation loss=0.28\n",
      "2024-07-28 10:14:54 Step 38/55: training loss=0.52, validation loss=0.32\n",
      "2024-07-28 10:14:50 Step 37/55: training loss=0.52, validation loss=0.22\n",
      "2024-07-28 10:14:47 Step 36/55: training loss=0.66, validation loss=0.32, full validation loss=0.28\n",
      "2024-07-28 10:14:40 Step 35/55: training loss=0.52, validation loss=0.25\n",
      "2024-07-28 10:14:38 Step 34/55: training loss=0.70, validation loss=0.34\n",
      "2024-07-28 10:14:35 Step 33/55: training loss=0.61, validation loss=0.32, full validation loss=0.28\n",
      "2024-07-28 10:14:28 Step 32/55: training loss=0.62, validation loss=0.24\n",
      "2024-07-28 10:14:26 Step 31/55: training loss=0.72, validation loss=0.33\n",
      "2024-07-28 10:14:23 Step 30/55: training loss=0.50, validation loss=0.22, full validation loss=0.29\n",
      "2024-07-28 10:14:16 Step 29/55: training loss=0.66, validation loss=0.35\n",
      "2024-07-28 10:14:14 Step 28/55: training loss=0.68, validation loss=0.25\n",
      "2024-07-28 10:14:11 Step 27/55: training loss=0.61, validation loss=0.36, full validation loss=0.29\n",
      "2024-07-28 10:14:06 Step 26/55: training loss=0.70, validation loss=0.33\n",
      "2024-07-28 10:14:02 Step 25/55: training loss=0.83, validation loss=0.24\n",
      "2024-07-28 10:13:59 Step 24/55: training loss=0.56, validation loss=0.36, full validation loss=0.30\n",
      "2024-07-28 10:13:52 Step 23/55: training loss=0.74, validation loss=0.23\n",
      "2024-07-28 10:13:50 Step 22/55: training loss=0.69, validation loss=0.39\n",
      "2024-07-28 10:13:47 Step 21/55: training loss=0.90, validation loss=0.26, full validation loss=0.31\n",
      "2024-07-28 10:13:40 Step 20/55: training loss=0.65, validation loss=0.40\n",
      "2024-07-28 10:13:38 Step 19/55: training loss=0.65, validation loss=0.37\n",
      "2024-07-28 10:13:35 Step 18/55: training loss=0.81, validation loss=0.25, full validation loss=0.33\n",
      "2024-07-28 10:13:28 Step 17/55: training loss=0.58, validation loss=0.44\n",
      "2024-07-28 10:13:26 Step 16/55: training loss=0.68, validation loss=0.25\n",
      "2024-07-28 10:13:23 Step 15/55: training loss=0.80, validation loss=0.47, full validation loss=0.36\n",
      "2024-07-28 10:13:16 Step 14/55: training loss=0.92, validation loss=0.33\n",
      "2024-07-28 10:13:14 Step 13/55: training loss=0.81, validation loss=0.47\n",
      "2024-07-28 10:13:11 Step 12/55: training loss=0.69, validation loss=0.51, full validation loss=0.42\n",
      "2024-07-28 10:13:04 Step 11/55: training loss=1.05, validation loss=0.30\n",
      "2024-07-28 10:13:01 Step 10/55: training loss=0.73, validation loss=0.64\n",
      "2024-07-28 10:12:58 Step 9/55: training loss=0.85, validation loss=0.34, full validation loss=0.50\n",
      "2024-07-28 10:12:53 Step 8/55: training loss=0.86, validation loss=0.70\n",
      "2024-07-28 10:12:49 Step 7/55: training loss=0.91, validation loss=0.50\n",
      "2024-07-28 10:12:46 Step 6/55: training loss=0.96, validation loss=0.68, full validation loss=0.60\n",
      "2024-07-28 10:12:41 Step 5/55: training loss=1.08, validation loss=0.87\n",
      "2024-07-28 10:12:37 Step 4/55: training loss=1.30, validation loss=0.47\n",
      "2024-07-28 10:12:34 Step 3/55: training loss=1.06, validation loss=0.89, full validation loss=0.69\n",
      "2024-07-28 10:12:29 Step 2/55: training loss=0.94, validation loss=0.48\n",
      "2024-07-28 10:12:24 Step 1/55: training loss=1.24, validation loss=0.88\n",
      "2024-07-28 10:09:48 Fine-tuning job started\n",
      "2024-07-28 10:09:47 Files validated, moving job to queued state\n",
      "2024-07-28 10:09:23 Validating training file: file-rLfsk3CrBmZ0uvwqe1cLu1QS and validation file: file-aTiMJukivOKqeizliT0bN9S3\n",
      "2024-07-28 10:09:23 Created fine-tuning job: ftjob-TQ8TYveVMVxO2rvHc4ddAHos\n"
     ]
    }
   ],
   "source": [
    "import signal\n",
    "import datetime\n",
    "\n",
    "\n",
    "def signal_handler(sig, frame):\n",
    "    status = client.fine_tuning.jobs.retrieve(job_id).status\n",
    "    print(f\"Stream interrupted. Job is still {status}.\")\n",
    "    return\n",
    "\n",
    "print(f\"Streaming events for the fine-tuning job: {job_id}\")\n",
    "\n",
    "signal.signal(signal.SIGINT, signal_handler)\n",
    "\n",
    "events = client.fine_tuning.jobs.list_events(fine_tuning_job_id=job_id)\n",
    "try:\n",
    "    for event in events:\n",
    "        print(\n",
    "            f'{datetime.datetime.fromtimestamp(event.created_at)} {event.message}'\n",
    "        )\n",
    "except Exception:\n",
    "    print(\"Stream interrupted (client disconnected).\")"
   ]
  },
  {
   "cell_type": "code",
   "execution_count": 9,
   "metadata": {
    "colab": {
     "base_uri": "https://localhost:8080/"
    },
    "executionInfo": {
     "elapsed": 417,
     "status": "ok",
     "timestamp": 1722161949388,
     "user": {
      "displayName": "Abd Alkarim",
      "userId": "03458153634795249349"
     },
     "user_tz": -180
    },
    "id": "shiHWh1Wu3GB",
    "outputId": "ea375363-7247-4110-e2b4-139dbc9aefc5"
   },
   "outputs": [
    {
     "name": "stdout",
     "output_type": "stream",
     "text": [
      "Finetune job ftjob-TQ8TYveVMVxO2rvHc4ddAHos finished with status: succeeded\n"
     ]
    }
   ],
   "source": [
    "import time\n",
    "\n",
    "status = client.fine_tuning.jobs.retrieve(job_id).status\n",
    "if status not in [\"succeeded\", \"failed\"]:\n",
    "    print(f\"Job not in terminal status: {status}. Waiting.\")\n",
    "    while status not in [\"succeeded\", \"failed\"]:\n",
    "        time.sleep(2)\n",
    "        status = client.fine_tuning.jobs.retrieve(job_id).status\n",
    "        print(f\"Status: {status}\")\n",
    "else:\n",
    "    print(f\"Finetune job {job_id} finished with status: {status}\")"
   ]
  },
  {
   "cell_type": "code",
   "execution_count": 16,
   "metadata": {
    "colab": {
     "base_uri": "https://localhost:8080/"
    },
    "executionInfo": {
     "elapsed": 477,
     "status": "ok",
     "timestamp": 1722162853018,
     "user": {
      "displayName": "Abd Alkarim",
      "userId": "03458153634795249349"
     },
     "user_tz": -180
    },
    "id": "9gXezNVP5zg5",
    "outputId": "c8d542eb-cd10-4393-c280-b250e8e22b68"
   },
   "outputs": [
    {
     "name": "stdout",
     "output_type": "stream",
     "text": [
      "Found 11 finetune jobs.\n"
     ]
    }
   ],
   "source": [
    "result = client.fine_tuning.jobs.list()\n",
    "print(f\"Found {len(result.data)} finetune jobs.\")"
   ]
  },
  {
   "cell_type": "code",
   "execution_count": 17,
   "metadata": {
    "executionInfo": {
     "elapsed": 490,
     "status": "ok",
     "timestamp": 1722162865025,
     "user": {
      "displayName": "Abd Alkarim",
      "userId": "03458153634795249349"
     },
     "user_tz": -180
    },
    "id": "wM9HmIDPu3I8"
   },
   "outputs": [],
   "source": [
    "fine_tuned_model = result.data[0].fine_tuned_model"
   ]
  },
  {
   "cell_type": "code",
   "execution_count": 18,
   "metadata": {
    "colab": {
     "base_uri": "https://localhost:8080/"
    },
    "executionInfo": {
     "elapsed": 2,
     "status": "ok",
     "timestamp": 1722162884177,
     "user": {
      "displayName": "Abd Alkarim",
      "userId": "03458153634795249349"
     },
     "user_tz": -180
    },
    "id": "ktb77-v36Bxr",
    "outputId": "a7013e7e-33dd-45a6-fa97-f3a78330182a"
   },
   "outputs": [
    {
     "name": "stdout",
     "output_type": "stream",
     "text": [
      "ft:gpt-3.5-turbo-0125:personal::9pvEdjjn\n"
     ]
    }
   ],
   "source": [
    "print(fine_tuned_model)"
   ]
  },
  {
   "cell_type": "code",
   "execution_count": 19,
   "metadata": {
    "colab": {
     "base_uri": "https://localhost:8080/"
    },
    "executionInfo": {
     "elapsed": 2795,
     "status": "ok",
     "timestamp": 1722162976468,
     "user": {
      "displayName": "Abd Alkarim",
      "userId": "03458153634795249349"
     },
     "user_tz": -180
    },
    "id": "Xtyi8_yFu3Ly",
    "outputId": "1a82651a-ff81-4ff4-f8bb-c97d53e92193"
   },
   "outputs": [
    {
     "name": "stdout",
     "output_type": "stream",
     "text": [
      "ChatCompletionMessage(content='يعتمد سياسة إرجاع الكتب لدينا على القوانين المحلية وشروط البيع. عادة ما يكون لدينا سياسة إرجاع مرنة تسمح للعملاء بإعادة الكتب غير المستخدمة في حالة جديدة وغير تالفة في غضون فترة زمنية معينة بعد الشراء. يرجى الاتصال بنا للحصول على مزيد من التفاصيل حول سياسة الإرجاع الخاصة بنا.', role='assistant', function_call=None, tool_calls=None)\n"
     ]
    }
   ],
   "source": [
    "answer = client.chat.completions.create(\n",
    "    model=\"gpt-3.5-turbo\",\n",
    "    messages=[\n",
    "        {\"role\": \"user\", \"content\": \"ما هي سياسة إرجاع الكتب لديكم؟\"},\n",
    "    ]\n",
    ")\n",
    "\n",
    "print(answer.choices[0].message)"
   ]
  },
  {
   "cell_type": "code",
   "execution_count": 24,
   "metadata": {
    "colab": {
     "base_uri": "https://localhost:8080/"
    },
    "executionInfo": {
     "elapsed": 3888,
     "status": "ok",
     "timestamp": 1722163130207,
     "user": {
      "displayName": "Abd Alkarim",
      "userId": "03458153634795249349"
     },
     "user_tz": -180
    },
    "id": "jyM45eTau3Yy",
    "outputId": "b86523f1-0014-4abe-a0e3-6e9bea82fb8a"
   },
   "outputs": [
    {
     "name": "stdout",
     "output_type": "stream",
     "text": [
      "ChatCompletionMessage(content='نعم، زبائننا يحق لهم إرجاع الكتب حتى 30 يوماً بعد شراء الكتاب. إذا كان الزبون غير مرتاح بالكتاب الذي اشتراه لدينا، يمكنهم إرجاعه واسترداد قيمة الشراء بالكامل.', role='assistant', function_call=None, tool_calls=None)\n"
     ]
    }
   ],
   "source": [
    "answer = client.chat.completions.create(\n",
    "    model=fine_tuned_model,\n",
    "    messages=[\n",
    "        {\"role\": \"user\", \"content\": \"ما هي سياسة إرجاع الكتب لديكم؟\"},\n",
    "    ]\n",
    ")\n",
    "\n",
    "print(answer.choices[0].message)"
   ]
  },
  {
   "cell_type": "code",
   "execution_count": 25,
   "metadata": {
    "colab": {
     "base_uri": "https://localhost:8080/"
    },
    "executionInfo": {
     "elapsed": 8672,
     "status": "ok",
     "timestamp": 1722163192038,
     "user": {
      "displayName": "Abd Alkarim",
      "userId": "03458153634795249349"
     },
     "user_tz": -180
    },
    "id": "Wva2lywtu3bl",
    "outputId": "99297172-8fc0-47d6-b992-276f37bf46b1"
   },
   "outputs": [
    {
     "name": "stdout",
     "output_type": "stream",
     "text": [
      "ChatCompletionMessage(content='نعم بالتأكيد، إليك بعض الكتب الجيدة التي يمكن أن تناسب الأطفال في هذه الفئة العمرية:\\n\\n1. \"هاري بوتر وحجر الفيلسوف\" للكاتبة ج. ك. رولينغ: سلسلة مشهورة ومحببة للأطفال، تتحدث عن مغامرات هاري بوتر الشهيرة في عالم السحر.\\n\\n2. \"العجمي\" للكاتبة جودي بلوم: قصة عن صبي يكتسب أصدقاء جدد ويتغلب على تحديات الصبيان الشرسة في المدرسة الإبتدائية.\\n\\n3. \"روالد دال ومصنع الشوكولا\" للكاتب روالد دال: قصة مذهلة تروي قصة صبي يدعى تشارلي بوكيت يفوز بجولة في المصنع الشهير للشوكولا.\\n\\n4. \"آن من ألوذ\" للكاتبة لاي. إم. مونتغمري: قصة مؤثرة عن فتاة يتيمة تسمى آن شيرلي، تعيش مغامرات مليئة بالفكاهة والعجائب.\\n\\n5. \"المدرسة المرعبة\" للكاتبة إنيد بليتون: قصة مشوقة تدور حول فتاة تكتشف أسراراً مرعبة في مدرستها الجديدة.\\n\\nإن هذه الكتب تعتبر خيارات رائعة للأطفال من سن 8 إلى 10 سنوات، وقد تستمتعون بقراءتها معًا والنقاش حول القصص والشخصيات فيها.', role='assistant', function_call=None, tool_calls=None)\n"
     ]
    }
   ],
   "source": [
    "answer = client.chat.completions.create(\n",
    "    model=\"gpt-3.5-turbo\",\n",
    "    messages=[\n",
    "        {\"role\": \"user\", \"content\": \"هل يمكنك أن توصي بكتاب جيد للأطفال من سن 8 إلى 10 سنوات\"},\n",
    "    ]\n",
    ")\n",
    "\n",
    "print(answer.choices[0].message)"
   ]
  },
  {
   "cell_type": "code",
   "execution_count": 27,
   "metadata": {
    "colab": {
     "base_uri": "https://localhost:8080/"
    },
    "executionInfo": {
     "elapsed": 4554,
     "status": "ok",
     "timestamp": 1722163266933,
     "user": {
      "displayName": "Abd Alkarim",
      "userId": "03458153634795249349"
     },
     "user_tz": -180
    },
    "id": "SekrsOLru3ej",
    "outputId": "b64ffc29-9774-48c2-e149-85f468d44cc5"
   },
   "outputs": [
    {
     "name": "stdout",
     "output_type": "stream",
     "text": [
      "ChatCompletionMessage(content='بالتأكيد! من الكتب الجيدة لهذه المجموعة العمرية هو \"هاري بوتر\" لج. ك. رولينج. يحكي المسلسل قصة صبي ساحر يدخل إلى عالم سحري ويقاتل قوى الشر.', role='assistant', function_call=None, tool_calls=None)\n"
     ]
    }
   ],
   "source": [
    "answer = client.chat.completions.create(\n",
    "    model=fine_tuned_model,\n",
    "    messages=[\n",
    "        {\"role\": \"user\", \"content\": \"هل يمكنك أن توصي بكتاب جيد للأطفال من سن 8 إلى 10 سنوات؟\"},\n",
    "    ]\n",
    ")\n",
    "\n",
    "print(answer.choices[0].message)"
   ]
  }
 ],
 "metadata": {
  "colab": {
   "authorship_tag": "ABX9TyMy5Gz2YDUr2snsFP/anrRO",
   "provenance": []
  },
  "kernelspec": {
   "display_name": "Python 3 (ipykernel)",
   "language": "python",
   "name": "python3"
  },
  "language_info": {
   "codemirror_mode": {
    "name": "ipython",
    "version": 3
   },
   "file_extension": ".py",
   "mimetype": "text/x-python",
   "name": "python",
   "nbconvert_exporter": "python",
   "pygments_lexer": "ipython3",
   "version": "3.11.5"
  }
 },
 "nbformat": 4,
 "nbformat_minor": 1
}
